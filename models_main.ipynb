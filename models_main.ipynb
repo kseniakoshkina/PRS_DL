{
  "cells": [
    {
      "cell_type": "code",
      "execution_count": null,
      "id": "9d4167ae",
      "metadata": {
        "id": "9d4167ae"
      },
      "outputs": [],
      "source": [
        "import argparse\n",
        "import numpy as np\n",
        "import pandas as pd\n",
        "from sklearn.preprocessing import StandardScaler\n",
        "from numpy import genfromtxt\n",
        "from sklearn import svm\n",
        "import matplotlib.pyplot as plt\n",
        "from sklearn.preprocessing import StandardScaler\n",
        "from sklearn.metrics import accuracy_score\n",
        "from sklearn.metrics import confusion_matrix\n",
        "import warnings\n",
        "warnings.filterwarnings('ignore')\n",
        "from datetime import datetime\n",
        "from sklearn.model_selection import RandomizedSearchCV, GridSearchCV\n",
        "from sklearn.metrics import roc_auc_score\n",
        "from sklearn.model_selection import StratifiedKFold\n",
        "scaler = StandardScaler()\n",
        "from sklearn.metrics import precision_score, recall_score, accuracy_score\n",
        "from sklearn import metrics\n",
        "from sklearn import preprocessing\n",
        "import seaborn as sns\n",
        "import matplotlib.pyplot as plt\n",
        "from pylab import rcParams\n",
        "import sys\n",
        "import os\n",
        "from sklearn import tree, ensemble\n",
        "from sklearn.metrics import roc_auc_score"
      ]
    },
    {
      "cell_type": "markdown",
      "id": "725e90f9",
      "metadata": {
        "id": "725e90f9"
      },
      "source": [
        "## European Group"
      ]
    },
    {
      "cell_type": "code",
      "execution_count": null,
      "id": "6ac0b141",
      "metadata": {
        "colab": {
          "base_uri": "https://localhost:8080/",
          "height": 188
        },
        "id": "6ac0b141",
        "outputId": "0b3df75c-ae2a-440e-91c4-ee6c671ad927"
      },
      "outputs": [
        {
          "output_type": "error",
          "ename": "FileNotFoundError",
          "evalue": "ignored",
          "traceback": [
            "\u001b[0;31m---------------------------------------------------------------------------\u001b[0m",
            "\u001b[0;31mFileNotFoundError\u001b[0m                         Traceback (most recent call last)",
            "\u001b[0;32m<ipython-input-2-f31441a1cf53>\u001b[0m in \u001b[0;36m<cell line: 1>\u001b[0;34m()\u001b[0m\n\u001b[0;32m----> 1\u001b[0;31m \u001b[0;32mwith\u001b[0m \u001b[0mopen\u001b[0m\u001b[0;34m(\u001b[0m\u001b[0;34m'./eur/pv_0.05.ptrain.raw'\u001b[0m\u001b[0;34m,\u001b[0m\u001b[0;34m'r'\u001b[0m\u001b[0;34m)\u001b[0m \u001b[0;32mas\u001b[0m \u001b[0mf\u001b[0m\u001b[0;34m:\u001b[0m\u001b[0;34m\u001b[0m\u001b[0;34m\u001b[0m\u001b[0m\n\u001b[0m\u001b[1;32m      2\u001b[0m     \u001b[0mftrain_eur\u001b[0m \u001b[0;34m=\u001b[0m \u001b[0mf\u001b[0m\u001b[0;34m.\u001b[0m\u001b[0mread\u001b[0m\u001b[0;34m(\u001b[0m\u001b[0;34m)\u001b[0m\u001b[0;34m.\u001b[0m\u001b[0msplit\u001b[0m\u001b[0;34m(\u001b[0m\u001b[0;34m'\\n'\u001b[0m\u001b[0;34m)\u001b[0m\u001b[0;34m\u001b[0m\u001b[0;34m\u001b[0m\u001b[0m\n",
            "\u001b[0;31mFileNotFoundError\u001b[0m: [Errno 2] No such file or directory: './eur/pv_0.05.ptrain.raw'"
          ]
        }
      ],
      "source": [
        "with open('./eur/pv_0.05.ptrain.raw','r') as f:\n",
        "    ftrain_eur = f.read().split('\\n')"
      ]
    },
    {
      "cell_type": "code",
      "execution_count": null,
      "id": "671e31ae",
      "metadata": {
        "id": "671e31ae"
      },
      "outputs": [],
      "source": [
        "with open('./eur/trainYRI.pheno','r') as f:\n",
        "    ytrain_eur = f.read().split('\\n')"
      ]
    },
    {
      "cell_type": "code",
      "execution_count": null,
      "id": "5416e610",
      "metadata": {
        "id": "5416e610"
      },
      "outputs": [],
      "source": [
        "with open('./eur/pv_0.05.ptest.raw','r') as f:\n",
        "    ftest_eur = f.read().split('\\n')"
      ]
    },
    {
      "cell_type": "code",
      "execution_count": null,
      "id": "2d2bd104",
      "metadata": {
        "id": "2d2bd104"
      },
      "outputs": [],
      "source": [
        "with open('./eur/testYRI.pheno','r') as f:\n",
        "    ytest_eur = f.read().split('\\n')"
      ]
    },
    {
      "cell_type": "code",
      "execution_count": null,
      "id": "3826c4f1",
      "metadata": {
        "id": "3826c4f1"
      },
      "outputs": [],
      "source": [
        "columns_eur = ftrain_eur[0].split()\n",
        "cols_test_eur = ftest_eur[0].split()\n",
        "all_data_eur = [i.split() for i in ftrain_eur[1:-1]]\n",
        "all_data_test_eur = [i.split() for i in ftest_eur[1:-1]]"
      ]
    },
    {
      "cell_type": "code",
      "execution_count": null,
      "id": "87804ed3",
      "metadata": {
        "id": "87804ed3"
      },
      "outputs": [],
      "source": [
        "def prep(data,cols):\n",
        "    all_info = []\n",
        "    for el in data:\n",
        "        dict_d = {}\n",
        "        for i, colname in enumerate(cols):\n",
        "            dict_d[colname] = el[i]\n",
        "        all_info.append(dict_d)\n",
        "    return pd.DataFrame(all_info)"
      ]
    },
    {
      "cell_type": "code",
      "execution_count": null,
      "id": "53f762e8",
      "metadata": {
        "id": "53f762e8"
      },
      "outputs": [],
      "source": [
        "final_eur = prep(all_data_eur, columns_eur)\n",
        "final_test_eur = prep(all_data_test_eur, cols_test_eur)"
      ]
    },
    {
      "cell_type": "code",
      "execution_count": null,
      "id": "262c138c",
      "metadata": {
        "id": "262c138c"
      },
      "outputs": [],
      "source": [
        "targets_eur = []\n",
        "for el in ytrain_eur[1:-1]:\n",
        "    targets_eur.append(el.split()[-1])"
      ]
    },
    {
      "cell_type": "code",
      "execution_count": null,
      "id": "b34040af",
      "metadata": {
        "id": "b34040af"
      },
      "outputs": [],
      "source": [
        "targets_test_eur = []\n",
        "for el in ytest_eur[1:-1]:\n",
        "    targets_test_eur.append(el.split()[-1])"
      ]
    },
    {
      "cell_type": "code",
      "execution_count": null,
      "id": "e99ee4fe",
      "metadata": {
        "id": "e99ee4fe"
      },
      "outputs": [],
      "source": [
        "final_eur['target'] = targets_eur\n",
        "final_test_eur['target'] = targets_test_eur\n",
        "final_eur = final_eur.drop(['FID', 'IID', 'PAT', 'MAT', 'SEX','PHENOTYPE'], axis=1)\n",
        "final_test_eur = final_test_eur.drop(['FID', 'IID', 'PAT', 'MAT', 'SEX','PHENOTYPE'], axis=1)\n",
        "final_train_eur = final_eur"
      ]
    },
    {
      "cell_type": "markdown",
      "id": "82dae5f7",
      "metadata": {
        "id": "82dae5f7"
      },
      "source": [
        "## African Group"
      ]
    },
    {
      "cell_type": "code",
      "execution_count": null,
      "id": "9ded8971",
      "metadata": {
        "id": "9ded8971"
      },
      "outputs": [],
      "source": [
        "with open('./afr/pv_0.05.ptrain.raw','r') as f:\n",
        "    ftrain_afr = f.read().split('\\n')"
      ]
    },
    {
      "cell_type": "code",
      "execution_count": null,
      "id": "c9ba90eb",
      "metadata": {
        "id": "c9ba90eb"
      },
      "outputs": [],
      "source": [
        "with open('./afr/trainYRI.pheno','r') as f:\n",
        "    ytrain_afr = f.read().split('\\n')"
      ]
    },
    {
      "cell_type": "code",
      "execution_count": null,
      "id": "dd83d637",
      "metadata": {
        "id": "dd83d637"
      },
      "outputs": [],
      "source": [
        "with open('./afr/pv_0.05.ptest.raw','r') as f:\n",
        "    ftest_afr = f.read().split('\\n')"
      ]
    },
    {
      "cell_type": "code",
      "execution_count": null,
      "id": "a509cd2d",
      "metadata": {
        "id": "a509cd2d"
      },
      "outputs": [],
      "source": [
        "with open('./afr/testYRI.pheno','r') as f:\n",
        "    ytest_afr = f.read().split('\\n')"
      ]
    },
    {
      "cell_type": "code",
      "execution_count": null,
      "id": "6268202f",
      "metadata": {
        "id": "6268202f"
      },
      "outputs": [],
      "source": [
        "columns_afr = ftrain_afr[0].split()\n",
        "cols_test_afr = ftest_afr[0].split()\n",
        "all_data_afr = [i.split() for i in ftrain_afr[1:-1]]\n",
        "all_data_test_afr = [i.split() for i in ftest_afr[1:-1]]"
      ]
    },
    {
      "cell_type": "code",
      "execution_count": null,
      "id": "bbc79a2a",
      "metadata": {
        "id": "bbc79a2a"
      },
      "outputs": [],
      "source": [
        "def prep(data,cols):\n",
        "    all_info = []\n",
        "    for el in data:\n",
        "        dict_d = {}\n",
        "        for i, colname in enumerate(cols):\n",
        "            dict_d[colname] = el[i]\n",
        "        all_info.append(dict_d)\n",
        "    return pd.DataFrame(all_info)"
      ]
    },
    {
      "cell_type": "code",
      "execution_count": null,
      "id": "8d635c14",
      "metadata": {
        "id": "8d635c14"
      },
      "outputs": [],
      "source": [
        "final_afr = prep(all_data_afr, columns_afr)\n",
        "final_test_afr = prep(all_data_test_afr, cols_test_afr)"
      ]
    },
    {
      "cell_type": "code",
      "execution_count": null,
      "id": "89d1797d",
      "metadata": {
        "id": "89d1797d"
      },
      "outputs": [],
      "source": [
        "targets_afr = []\n",
        "for el in ytrain_afr[1:-1]:\n",
        "    targets_afr.append(el.split()[-1])"
      ]
    },
    {
      "cell_type": "code",
      "execution_count": null,
      "id": "946a6f8f",
      "metadata": {
        "id": "946a6f8f"
      },
      "outputs": [],
      "source": [
        "targets_test_afr = []\n",
        "for el in ytest_afr[1:-1]:\n",
        "    targets_test_afr.append(el.split()[-1])"
      ]
    },
    {
      "cell_type": "code",
      "execution_count": null,
      "id": "e1ed169b",
      "metadata": {
        "id": "e1ed169b"
      },
      "outputs": [],
      "source": [
        "final_afr['target'] = targets_afr\n",
        "final_test_afr['target'] = targets_test_afr\n",
        "final_afr = final_afr.drop(['FID', 'IID', 'PAT', 'MAT', 'SEX','PHENOTYPE'], axis=1)\n",
        "final_test_afr = final_test_afr.drop(['FID', 'IID', 'PAT', 'MAT', 'SEX','PHENOTYPE'], axis=1)\n",
        "final_train_afr = final_afr"
      ]
    },
    {
      "cell_type": "markdown",
      "id": "ca1710cf",
      "metadata": {
        "id": "ca1710cf"
      },
      "source": [
        "## Asian Group"
      ]
    },
    {
      "cell_type": "code",
      "execution_count": null,
      "id": "d757c1b2",
      "metadata": {
        "id": "d757c1b2"
      },
      "outputs": [],
      "source": [
        "with open('./asn/pv_0.05.ptrain.raw','r') as f:\n",
        "    ftrain_asn = f.read().split('\\n')"
      ]
    },
    {
      "cell_type": "code",
      "execution_count": null,
      "id": "49e4b610",
      "metadata": {
        "id": "49e4b610"
      },
      "outputs": [],
      "source": [
        "with open('./asn/trainYRI.pheno','r') as f:\n",
        "    ytrain_asn = f.read().split('\\n')"
      ]
    },
    {
      "cell_type": "code",
      "execution_count": null,
      "id": "c7c8fcce",
      "metadata": {
        "id": "c7c8fcce"
      },
      "outputs": [],
      "source": [
        "with open('./asn/pv_0.05.ptest.raw','r') as f:\n",
        "    ftest_asn = f.read().split('\\n')"
      ]
    },
    {
      "cell_type": "code",
      "execution_count": null,
      "id": "917d2174",
      "metadata": {
        "id": "917d2174"
      },
      "outputs": [],
      "source": [
        "with open('./asn/testYRI.pheno','r') as f:\n",
        "    ytest_asn = f.read().split('\\n')"
      ]
    },
    {
      "cell_type": "code",
      "execution_count": null,
      "id": "c535b693",
      "metadata": {
        "id": "c535b693"
      },
      "outputs": [],
      "source": [
        "columns_asn = ftrain_asn[0].split()\n",
        "cols_test_asn = ftest_asn[0].split()\n",
        "all_data_asn = [i.split() for i in ftrain_asn[1:-1]]\n",
        "all_data_test_asn = [i.split() for i in ftest_asn[1:-1]]"
      ]
    },
    {
      "cell_type": "code",
      "execution_count": null,
      "id": "d8c55b4f",
      "metadata": {
        "id": "d8c55b4f"
      },
      "outputs": [],
      "source": [
        "def prep(data,cols):\n",
        "    all_info = []\n",
        "    for el in data:\n",
        "        dict_d = {}\n",
        "        for i, colname in enumerate(cols):\n",
        "            dict_d[colname] = el[i]\n",
        "        all_info.append(dict_d)\n",
        "    return pd.DataFrame(all_info)"
      ]
    },
    {
      "cell_type": "code",
      "execution_count": null,
      "id": "c90e5063",
      "metadata": {
        "id": "c90e5063"
      },
      "outputs": [],
      "source": [
        "final_asn = prep(all_data_asn, columns_asn)\n",
        "final_test_asn = prep(all_data_test_asn, cols_test_asn)"
      ]
    },
    {
      "cell_type": "code",
      "execution_count": null,
      "id": "47ab6099",
      "metadata": {
        "id": "47ab6099"
      },
      "outputs": [],
      "source": [
        "targets_asn = []\n",
        "for el in ytrain_asn[1:-1]:\n",
        "    targets_asn.append(el.split()[-1])"
      ]
    },
    {
      "cell_type": "code",
      "execution_count": null,
      "id": "ee1169de",
      "metadata": {
        "id": "ee1169de"
      },
      "outputs": [],
      "source": [
        "targets_test_asn = []\n",
        "for el in ytest_asn[1:-1]:\n",
        "    targets_test_asn.append(el.split()[-1])"
      ]
    },
    {
      "cell_type": "code",
      "execution_count": null,
      "id": "5a056afb",
      "metadata": {
        "id": "5a056afb"
      },
      "outputs": [],
      "source": [
        "final_asn['target'] = targets_asn\n",
        "final_test_asn['target'] = targets_test_asn\n",
        "final_asn = final_asn.drop(['FID', 'IID', 'PAT', 'MAT', 'SEX','PHENOTYPE'], axis=1)\n",
        "final_test_asn = final_test_asn.drop(['FID', 'IID', 'PAT', 'MAT', 'SEX','PHENOTYPE'], axis=1)\n",
        "final_train_asn = final_asn"
      ]
    },
    {
      "cell_type": "markdown",
      "id": "35327004",
      "metadata": {
        "id": "35327004"
      },
      "source": [
        "## Filtering"
      ]
    },
    {
      "cell_type": "code",
      "execution_count": null,
      "id": "abd30bc7",
      "metadata": {
        "id": "abd30bc7"
      },
      "outputs": [],
      "source": [
        "a = list(final_train_asn.columns)"
      ]
    },
    {
      "cell_type": "code",
      "execution_count": null,
      "id": "d6e4e46d",
      "metadata": {
        "id": "d6e4e46d"
      },
      "outputs": [],
      "source": [
        "b = list(final_train_eur.columns)"
      ]
    },
    {
      "cell_type": "code",
      "execution_count": null,
      "id": "7dcaf750",
      "metadata": {
        "id": "7dcaf750"
      },
      "outputs": [],
      "source": [
        "c = list(final_train_afr.columns)"
      ]
    },
    {
      "cell_type": "code",
      "execution_count": null,
      "id": "8a318f58",
      "metadata": {
        "id": "8a318f58"
      },
      "outputs": [],
      "source": [
        "common_snps = list(set(a) & set(b) & set(c))\n"
      ]
    },
    {
      "cell_type": "code",
      "execution_count": null,
      "id": "6ff7625e",
      "metadata": {
        "id": "6ff7625e",
        "outputId": "69d88249-6e76-4763-998c-8978268d1008"
      },
      "outputs": [
        {
          "data": {
            "text/html": [
              "<div>\n",
              "<style scoped>\n",
              "    .dataframe tbody tr th:only-of-type {\n",
              "        vertical-align: middle;\n",
              "    }\n",
              "\n",
              "    .dataframe tbody tr th {\n",
              "        vertical-align: top;\n",
              "    }\n",
              "\n",
              "    .dataframe thead th {\n",
              "        text-align: right;\n",
              "    }\n",
              "</style>\n",
              "<table border=\"1\" class=\"dataframe\">\n",
              "  <thead>\n",
              "    <tr style=\"text-align: right;\">\n",
              "      <th></th>\n",
              "      <th>SNP_8_2</th>\n",
              "      <th>SNP_19_2</th>\n",
              "      <th>SNP_32_2</th>\n",
              "      <th>SNP_40_2</th>\n",
              "      <th>SNP_50_2</th>\n",
              "      <th>SNP_64_2</th>\n",
              "      <th>SNP_73_2</th>\n",
              "      <th>SNP_92_2</th>\n",
              "      <th>SNP_104_2</th>\n",
              "      <th>SNP_105_2</th>\n",
              "      <th>...</th>\n",
              "      <th>SNP_4882_2</th>\n",
              "      <th>SNP_4891_2</th>\n",
              "      <th>SNP_4895_2</th>\n",
              "      <th>SNP_4910_2</th>\n",
              "      <th>SNP_4918_2</th>\n",
              "      <th>SNP_4920_2</th>\n",
              "      <th>SNP_4938_2</th>\n",
              "      <th>SNP_4963_2</th>\n",
              "      <th>SNP_4991_2</th>\n",
              "      <th>target</th>\n",
              "    </tr>\n",
              "  </thead>\n",
              "  <tbody>\n",
              "    <tr>\n",
              "      <th>0</th>\n",
              "      <td>0</td>\n",
              "      <td>0</td>\n",
              "      <td>1</td>\n",
              "      <td>1</td>\n",
              "      <td>1</td>\n",
              "      <td>0</td>\n",
              "      <td>0</td>\n",
              "      <td>0</td>\n",
              "      <td>1</td>\n",
              "      <td>0</td>\n",
              "      <td>...</td>\n",
              "      <td>0</td>\n",
              "      <td>1</td>\n",
              "      <td>0</td>\n",
              "      <td>1</td>\n",
              "      <td>0</td>\n",
              "      <td>0</td>\n",
              "      <td>0</td>\n",
              "      <td>1</td>\n",
              "      <td>0</td>\n",
              "      <td>1</td>\n",
              "    </tr>\n",
              "    <tr>\n",
              "      <th>1</th>\n",
              "      <td>0</td>\n",
              "      <td>0</td>\n",
              "      <td>0</td>\n",
              "      <td>0</td>\n",
              "      <td>0</td>\n",
              "      <td>1</td>\n",
              "      <td>0</td>\n",
              "      <td>0</td>\n",
              "      <td>1</td>\n",
              "      <td>0</td>\n",
              "      <td>...</td>\n",
              "      <td>0</td>\n",
              "      <td>1</td>\n",
              "      <td>0</td>\n",
              "      <td>1</td>\n",
              "      <td>1</td>\n",
              "      <td>0</td>\n",
              "      <td>0</td>\n",
              "      <td>1</td>\n",
              "      <td>0</td>\n",
              "      <td>1</td>\n",
              "    </tr>\n",
              "    <tr>\n",
              "      <th>2</th>\n",
              "      <td>0</td>\n",
              "      <td>0</td>\n",
              "      <td>0</td>\n",
              "      <td>1</td>\n",
              "      <td>0</td>\n",
              "      <td>0</td>\n",
              "      <td>0</td>\n",
              "      <td>0</td>\n",
              "      <td>2</td>\n",
              "      <td>0</td>\n",
              "      <td>...</td>\n",
              "      <td>1</td>\n",
              "      <td>0</td>\n",
              "      <td>0</td>\n",
              "      <td>1</td>\n",
              "      <td>0</td>\n",
              "      <td>0</td>\n",
              "      <td>0</td>\n",
              "      <td>0</td>\n",
              "      <td>0</td>\n",
              "      <td>1</td>\n",
              "    </tr>\n",
              "    <tr>\n",
              "      <th>3</th>\n",
              "      <td>0</td>\n",
              "      <td>1</td>\n",
              "      <td>1</td>\n",
              "      <td>2</td>\n",
              "      <td>1</td>\n",
              "      <td>0</td>\n",
              "      <td>0</td>\n",
              "      <td>0</td>\n",
              "      <td>2</td>\n",
              "      <td>0</td>\n",
              "      <td>...</td>\n",
              "      <td>0</td>\n",
              "      <td>0</td>\n",
              "      <td>1</td>\n",
              "      <td>0</td>\n",
              "      <td>0</td>\n",
              "      <td>0</td>\n",
              "      <td>0</td>\n",
              "      <td>1</td>\n",
              "      <td>0</td>\n",
              "      <td>1</td>\n",
              "    </tr>\n",
              "    <tr>\n",
              "      <th>4</th>\n",
              "      <td>1</td>\n",
              "      <td>0</td>\n",
              "      <td>0</td>\n",
              "      <td>0</td>\n",
              "      <td>1</td>\n",
              "      <td>1</td>\n",
              "      <td>1</td>\n",
              "      <td>0</td>\n",
              "      <td>0</td>\n",
              "      <td>1</td>\n",
              "      <td>...</td>\n",
              "      <td>1</td>\n",
              "      <td>0</td>\n",
              "      <td>0</td>\n",
              "      <td>1</td>\n",
              "      <td>0</td>\n",
              "      <td>0</td>\n",
              "      <td>0</td>\n",
              "      <td>1</td>\n",
              "      <td>1</td>\n",
              "      <td>1</td>\n",
              "    </tr>\n",
              "    <tr>\n",
              "      <th>...</th>\n",
              "      <td>...</td>\n",
              "      <td>...</td>\n",
              "      <td>...</td>\n",
              "      <td>...</td>\n",
              "      <td>...</td>\n",
              "      <td>...</td>\n",
              "      <td>...</td>\n",
              "      <td>...</td>\n",
              "      <td>...</td>\n",
              "      <td>...</td>\n",
              "      <td>...</td>\n",
              "      <td>...</td>\n",
              "      <td>...</td>\n",
              "      <td>...</td>\n",
              "      <td>...</td>\n",
              "      <td>...</td>\n",
              "      <td>...</td>\n",
              "      <td>...</td>\n",
              "      <td>...</td>\n",
              "      <td>...</td>\n",
              "      <td>...</td>\n",
              "    </tr>\n",
              "    <tr>\n",
              "      <th>2245</th>\n",
              "      <td>0</td>\n",
              "      <td>0</td>\n",
              "      <td>1</td>\n",
              "      <td>0</td>\n",
              "      <td>1</td>\n",
              "      <td>0</td>\n",
              "      <td>0</td>\n",
              "      <td>0</td>\n",
              "      <td>1</td>\n",
              "      <td>2</td>\n",
              "      <td>...</td>\n",
              "      <td>1</td>\n",
              "      <td>0</td>\n",
              "      <td>0</td>\n",
              "      <td>0</td>\n",
              "      <td>1</td>\n",
              "      <td>0</td>\n",
              "      <td>0</td>\n",
              "      <td>1</td>\n",
              "      <td>0</td>\n",
              "      <td>1</td>\n",
              "    </tr>\n",
              "    <tr>\n",
              "      <th>2246</th>\n",
              "      <td>0</td>\n",
              "      <td>0</td>\n",
              "      <td>0</td>\n",
              "      <td>1</td>\n",
              "      <td>0</td>\n",
              "      <td>1</td>\n",
              "      <td>1</td>\n",
              "      <td>0</td>\n",
              "      <td>1</td>\n",
              "      <td>1</td>\n",
              "      <td>...</td>\n",
              "      <td>0</td>\n",
              "      <td>0</td>\n",
              "      <td>0</td>\n",
              "      <td>0</td>\n",
              "      <td>1</td>\n",
              "      <td>1</td>\n",
              "      <td>0</td>\n",
              "      <td>1</td>\n",
              "      <td>0</td>\n",
              "      <td>0</td>\n",
              "    </tr>\n",
              "    <tr>\n",
              "      <th>2247</th>\n",
              "      <td>0</td>\n",
              "      <td>1</td>\n",
              "      <td>0</td>\n",
              "      <td>1</td>\n",
              "      <td>0</td>\n",
              "      <td>1</td>\n",
              "      <td>0</td>\n",
              "      <td>0</td>\n",
              "      <td>2</td>\n",
              "      <td>0</td>\n",
              "      <td>...</td>\n",
              "      <td>0</td>\n",
              "      <td>1</td>\n",
              "      <td>0</td>\n",
              "      <td>1</td>\n",
              "      <td>0</td>\n",
              "      <td>1</td>\n",
              "      <td>0</td>\n",
              "      <td>1</td>\n",
              "      <td>0</td>\n",
              "      <td>0</td>\n",
              "    </tr>\n",
              "    <tr>\n",
              "      <th>2248</th>\n",
              "      <td>0</td>\n",
              "      <td>0</td>\n",
              "      <td>0</td>\n",
              "      <td>1</td>\n",
              "      <td>0</td>\n",
              "      <td>0</td>\n",
              "      <td>1</td>\n",
              "      <td>1</td>\n",
              "      <td>0</td>\n",
              "      <td>0</td>\n",
              "      <td>...</td>\n",
              "      <td>0</td>\n",
              "      <td>1</td>\n",
              "      <td>0</td>\n",
              "      <td>0</td>\n",
              "      <td>0</td>\n",
              "      <td>1</td>\n",
              "      <td>0</td>\n",
              "      <td>0</td>\n",
              "      <td>1</td>\n",
              "      <td>0</td>\n",
              "    </tr>\n",
              "    <tr>\n",
              "      <th>2249</th>\n",
              "      <td>0</td>\n",
              "      <td>0</td>\n",
              "      <td>0</td>\n",
              "      <td>1</td>\n",
              "      <td>0</td>\n",
              "      <td>0</td>\n",
              "      <td>1</td>\n",
              "      <td>0</td>\n",
              "      <td>1</td>\n",
              "      <td>0</td>\n",
              "      <td>...</td>\n",
              "      <td>2</td>\n",
              "      <td>0</td>\n",
              "      <td>0</td>\n",
              "      <td>0</td>\n",
              "      <td>1</td>\n",
              "      <td>0</td>\n",
              "      <td>0</td>\n",
              "      <td>1</td>\n",
              "      <td>0</td>\n",
              "      <td>0</td>\n",
              "    </tr>\n",
              "  </tbody>\n",
              "</table>\n",
              "<p>2250 rows × 329 columns</p>\n",
              "</div>"
            ],
            "text/plain": [
              "     SNP_8_2 SNP_19_2 SNP_32_2 SNP_40_2 SNP_50_2 SNP_64_2 SNP_73_2 SNP_92_2  \\\n",
              "0          0        0        1        1        1        0        0        0   \n",
              "1          0        0        0        0        0        1        0        0   \n",
              "2          0        0        0        1        0        0        0        0   \n",
              "3          0        1        1        2        1        0        0        0   \n",
              "4          1        0        0        0        1        1        1        0   \n",
              "...      ...      ...      ...      ...      ...      ...      ...      ...   \n",
              "2245       0        0        1        0        1        0        0        0   \n",
              "2246       0        0        0        1        0        1        1        0   \n",
              "2247       0        1        0        1        0        1        0        0   \n",
              "2248       0        0        0        1        0        0        1        1   \n",
              "2249       0        0        0        1        0        0        1        0   \n",
              "\n",
              "     SNP_104_2 SNP_105_2  ... SNP_4882_2 SNP_4891_2 SNP_4895_2 SNP_4910_2  \\\n",
              "0            1         0  ...          0          1          0          1   \n",
              "1            1         0  ...          0          1          0          1   \n",
              "2            2         0  ...          1          0          0          1   \n",
              "3            2         0  ...          0          0          1          0   \n",
              "4            0         1  ...          1          0          0          1   \n",
              "...        ...       ...  ...        ...        ...        ...        ...   \n",
              "2245         1         2  ...          1          0          0          0   \n",
              "2246         1         1  ...          0          0          0          0   \n",
              "2247         2         0  ...          0          1          0          1   \n",
              "2248         0         0  ...          0          1          0          0   \n",
              "2249         1         0  ...          2          0          0          0   \n",
              "\n",
              "     SNP_4918_2 SNP_4920_2 SNP_4938_2 SNP_4963_2 SNP_4991_2 target  \n",
              "0             0          0          0          1          0      1  \n",
              "1             1          0          0          1          0      1  \n",
              "2             0          0          0          0          0      1  \n",
              "3             0          0          0          1          0      1  \n",
              "4             0          0          0          1          1      1  \n",
              "...         ...        ...        ...        ...        ...    ...  \n",
              "2245          1          0          0          1          0      1  \n",
              "2246          1          1          0          1          0      0  \n",
              "2247          0          1          0          1          0      0  \n",
              "2248          0          1          0          0          1      0  \n",
              "2249          1          0          0          1          0      0  \n",
              "\n",
              "[2250 rows x 329 columns]"
            ]
          },
          "execution_count": 775,
          "metadata": {},
          "output_type": "execute_result"
        }
      ],
      "source": [
        "final_train_eur"
      ]
    },
    {
      "cell_type": "code",
      "execution_count": null,
      "id": "c69e55ca",
      "metadata": {
        "id": "c69e55ca"
      },
      "outputs": [],
      "source": [
        "final_train_eur = final_train_eur[common_snps]\n",
        "final_test_eur = final_test_eur[common_snps]"
      ]
    },
    {
      "cell_type": "code",
      "execution_count": null,
      "id": "1d18290e",
      "metadata": {
        "id": "1d18290e"
      },
      "outputs": [],
      "source": [
        "final_train_afr = final_train_afr[common_snps]\n",
        "final_test_afr = final_test_afr[common_snps]"
      ]
    },
    {
      "cell_type": "code",
      "execution_count": null,
      "id": "b38cccfd",
      "metadata": {
        "id": "b38cccfd"
      },
      "outputs": [],
      "source": [
        "final_train_asn = final_train_asn[common_snps]\n",
        "final_test_asn = final_test_asn[common_snps]"
      ]
    },
    {
      "cell_type": "code",
      "execution_count": null,
      "id": "79712f8c",
      "metadata": {
        "id": "79712f8c"
      },
      "outputs": [],
      "source": [
        "X_eur = final_train_eur.drop(['target'], axis=1)\n",
        "y_eur = final_train_eur.target\n",
        "X_test_eur = final_test_eur.drop(['target'], axis=1)\n",
        "y_test_eur = final_test_eur.target"
      ]
    },
    {
      "cell_type": "code",
      "execution_count": null,
      "id": "ac5ab5d8",
      "metadata": {
        "id": "ac5ab5d8"
      },
      "outputs": [],
      "source": [
        "X_afr = final_train_afr.drop(['target'], axis=1)\n",
        "y_afr = final_train_afr.target\n",
        "X_test_afr = final_test_afr.drop(['target'], axis=1)\n",
        "y_test_afr = final_test_afr.target"
      ]
    },
    {
      "cell_type": "code",
      "execution_count": null,
      "id": "9ab5d108",
      "metadata": {
        "id": "9ab5d108"
      },
      "outputs": [],
      "source": [
        "X_asn = final_train_asn.drop(['target'], axis=1)\n",
        "y_asn = final_train_asn.target\n",
        "X_test_asn = final_test_asn.drop(['target'], axis=1)\n",
        "y_test_asn = final_test_asn.target"
      ]
    },
    {
      "cell_type": "markdown",
      "id": "a2478c4a",
      "metadata": {
        "id": "a2478c4a"
      },
      "source": [
        "## One-to-one"
      ]
    },
    {
      "cell_type": "markdown",
      "id": "2c896a57",
      "metadata": {
        "id": "2c896a57"
      },
      "source": [
        "### European to European"
      ]
    },
    {
      "cell_type": "code",
      "execution_count": null,
      "id": "bc945f6f",
      "metadata": {
        "id": "bc945f6f"
      },
      "outputs": [],
      "source": [
        "dict_acc = {}\n",
        "dict_roc = {}"
      ]
    },
    {
      "cell_type": "code",
      "execution_count": null,
      "id": "71d52c9b",
      "metadata": {
        "id": "71d52c9b"
      },
      "outputs": [],
      "source": [
        "from sklearn.linear_model import LogisticRegression\n",
        "\n",
        "clf_eur = LogisticRegression(random_state=0).fit(X_eur, y_eur)\n",
        "y_pred_eur = clf_eur.predict(X_test_eur)"
      ]
    },
    {
      "cell_type": "code",
      "execution_count": null,
      "id": "cd3819c4",
      "metadata": {
        "id": "cd3819c4",
        "outputId": "f87ca2ad-3771-402d-e77f-68b01b13016f"
      },
      "outputs": [
        {
          "name": "stdout",
          "output_type": "stream",
          "text": [
            "Accuracy score:  0.6173333333333333\n"
          ]
        }
      ],
      "source": [
        "print('Accuracy score: ', accuracy_score(y_test_eur, y_pred_eur))"
      ]
    },
    {
      "cell_type": "code",
      "execution_count": null,
      "id": "af1fb97d",
      "metadata": {
        "id": "af1fb97d"
      },
      "outputs": [],
      "source": [
        "dict_acc['eur_eur'] =  accuracy_score(y_test_eur, y_pred_eur)"
      ]
    },
    {
      "cell_type": "code",
      "execution_count": null,
      "id": "a9c3a2a5",
      "metadata": {
        "id": "a9c3a2a5",
        "outputId": "9864a7f4-4a82-49fc-a209-ad8af62b1457"
      },
      "outputs": [
        {
          "name": "stdout",
          "output_type": "stream",
          "text": [
            "ROC AUC score:  0.6580462838390957\n"
          ]
        }
      ],
      "source": [
        "from sklearn.metrics import roc_auc_score\n",
        "print('ROC AUC score: ', roc_auc_score(y_test_eur, clf_eur.predict_proba(X_test_eur)[:, 1]))"
      ]
    },
    {
      "cell_type": "code",
      "execution_count": null,
      "id": "51fd5b69",
      "metadata": {
        "id": "51fd5b69"
      },
      "outputs": [],
      "source": [
        "dict_roc['eur_eur'] = roc_auc_score(y_test_eur, clf_eur.predict_proba(X_test_eur)[:, 1])"
      ]
    },
    {
      "cell_type": "code",
      "execution_count": null,
      "id": "45725c33",
      "metadata": {
        "id": "45725c33",
        "outputId": "3d6eebde-0027-4d85-8844-ebe4c88270f3"
      },
      "outputs": [
        {
          "data": {
            "image/png": "[encoded data removed]",
            "text/plain": [
              "<Figure size 640x480 with 2 Axes>"
            ]
          },
          "metadata": {},
          "output_type": "display_data"
        }
      ],
      "source": [
        "def show_confusion_matrix(confusion_matrix):\n",
        "    hmap = sns.heatmap(confusion_matrix, annot=True, fmt=\"d\", cmap=\"Blues\")\n",
        "    hmap.yaxis.set_ticklabels(hmap.yaxis.get_ticklabels(), rotation=0, ha='right')\n",
        "    hmap.xaxis.set_ticklabels(hmap.xaxis.get_ticklabels(), rotation=30, ha='right')\n",
        "    plt.ylabel('True')\n",
        "    plt.xlabel('Predicted');\n",
        "\n",
        "cm = confusion_matrix(y_test_eur, y_pred_eur)\n",
        "df_cm = pd.DataFrame(cm, index=[0,1], columns=[0,1])\n",
        "show_confusion_matrix(df_cm)"
      ]
    },
    {
      "cell_type": "code",
      "execution_count": null,
      "id": "5d3520b2",
      "metadata": {
        "id": "5d3520b2",
        "outputId": "c16756ca-6066-4e4c-cc2b-8ef0788b6d46"
      },
      "outputs": [
        {
          "name": "stdout",
          "output_type": "stream",
          "text": [
            "              precision    recall  f1-score   support\n",
            "\n",
            "           0       0.63      0.63      0.63       387\n",
            "           1       0.60      0.61      0.61       363\n",
            "\n",
            "    accuracy                           0.62       750\n",
            "   macro avg       0.62      0.62      0.62       750\n",
            "weighted avg       0.62      0.62      0.62       750\n",
            "\n"
          ]
        }
      ],
      "source": [
        "from sklearn.metrics import classification_report\n",
        "print(classification_report(y_test_eur, y_pred_eur, target_names=['0','1']))"
      ]
    },
    {
      "cell_type": "markdown",
      "id": "7b0b2de7",
      "metadata": {
        "id": "7b0b2de7"
      },
      "source": [
        "### European to African"
      ]
    },
    {
      "cell_type": "code",
      "execution_count": null,
      "id": "58ec1606",
      "metadata": {
        "id": "58ec1606"
      },
      "outputs": [],
      "source": [
        "y_pred_afr = clf_eur.predict(X_test_afr)"
      ]
    },
    {
      "cell_type": "code",
      "execution_count": null,
      "id": "583dcd85",
      "metadata": {
        "id": "583dcd85",
        "outputId": "09793cab-961b-4708-d2c4-8fd9f3c9d9cf"
      },
      "outputs": [
        {
          "name": "stdout",
          "output_type": "stream",
          "text": [
            "Accuracy score:  0.6573333333333333\n"
          ]
        }
      ],
      "source": [
        "print('Accuracy score: ', accuracy_score(y_test_afr, y_pred_afr))"
      ]
    },
    {
      "cell_type": "code",
      "execution_count": null,
      "id": "1fdf44b4",
      "metadata": {
        "id": "1fdf44b4"
      },
      "outputs": [],
      "source": [
        "dict_acc['eur_afr'] =  accuracy_score(y_test_afr, y_pred_afr)"
      ]
    },
    {
      "cell_type": "code",
      "execution_count": null,
      "id": "d79e57ee",
      "metadata": {
        "id": "d79e57ee",
        "outputId": "5dc92dd1-8ec1-421e-d818-2962fc89583f"
      },
      "outputs": [
        {
          "name": "stdout",
          "output_type": "stream",
          "text": [
            "ROC AUC score:  0.7059177015967493\n"
          ]
        }
      ],
      "source": [
        "from sklearn.metrics import roc_auc_score\n",
        "print('ROC AUC score: ', roc_auc_score(y_test_afr, clf_eur.predict_proba(X_test_afr)[:, 1]))"
      ]
    },
    {
      "cell_type": "code",
      "execution_count": null,
      "id": "04ce4653",
      "metadata": {
        "id": "04ce4653"
      },
      "outputs": [],
      "source": [
        "dict_roc['eur_afr'] = roc_auc_score(y_test_afr, clf_eur.predict_proba(X_test_afr)[:, 1])"
      ]
    },
    {
      "cell_type": "code",
      "execution_count": null,
      "id": "dc5d8736",
      "metadata": {
        "id": "dc5d8736",
        "outputId": "e5bdf0cc-5dbe-48dd-ecbe-f6bc3704399f"
      },
      "outputs": [
        {
          "data": {
            "image/png": "[encoded data removed]",
            "text/plain": [
              "<Figure size 640x480 with 2 Axes>"
            ]
          },
          "metadata": {},
          "output_type": "display_data"
        }
      ],
      "source": [
        "def show_confusion_matrix(confusion_matrix):\n",
        "    hmap = sns.heatmap(confusion_matrix, annot=True, fmt=\"d\", cmap=\"Blues\")\n",
        "    hmap.yaxis.set_ticklabels(hmap.yaxis.get_ticklabels(), rotation=0, ha='right')\n",
        "    hmap.xaxis.set_ticklabels(hmap.xaxis.get_ticklabels(), rotation=30, ha='right')\n",
        "    plt.ylabel('True')\n",
        "    plt.xlabel('Predicted');\n",
        "\n",
        "cm = confusion_matrix(y_test_afr, y_pred_afr)\n",
        "df_cm = pd.DataFrame(cm, index=[0,1], columns=[0,1])\n",
        "show_confusion_matrix(df_cm)"
      ]
    },
    {
      "cell_type": "code",
      "execution_count": null,
      "id": "d6a00291",
      "metadata": {
        "id": "d6a00291",
        "outputId": "f0a2e464-2311-48a3-b83f-5b7b2b1bfcbb"
      },
      "outputs": [
        {
          "name": "stdout",
          "output_type": "stream",
          "text": [
            "              precision    recall  f1-score   support\n",
            "\n",
            "           0       0.69      0.65      0.67       404\n",
            "           1       0.62      0.66      0.64       346\n",
            "\n",
            "    accuracy                           0.66       750\n",
            "   macro avg       0.66      0.66      0.66       750\n",
            "weighted avg       0.66      0.66      0.66       750\n",
            "\n"
          ]
        }
      ],
      "source": [
        "from sklearn.metrics import classification_report\n",
        "print(classification_report(y_test_afr, y_pred_afr, target_names=['0','1']))"
      ]
    },
    {
      "cell_type": "markdown",
      "id": "1e6e952f",
      "metadata": {
        "id": "1e6e952f"
      },
      "source": [
        "### European to Asian"
      ]
    },
    {
      "cell_type": "code",
      "execution_count": null,
      "id": "75a4ba7e",
      "metadata": {
        "id": "75a4ba7e"
      },
      "outputs": [],
      "source": [
        "y_pred_asn = clf_eur.predict(X_test_asn)"
      ]
    },
    {
      "cell_type": "code",
      "execution_count": null,
      "id": "daff91b1",
      "metadata": {
        "id": "daff91b1",
        "outputId": "76af813e-0256-4cae-b10f-729799d37297"
      },
      "outputs": [
        {
          "name": "stdout",
          "output_type": "stream",
          "text": [
            "Accuracy score:  0.6253333333333333\n"
          ]
        }
      ],
      "source": [
        "print('Accuracy score: ', accuracy_score(y_test_asn, y_pred_asn))"
      ]
    },
    {
      "cell_type": "code",
      "execution_count": null,
      "id": "bb57042d",
      "metadata": {
        "id": "bb57042d"
      },
      "outputs": [],
      "source": [
        "dict_acc['eur_asn'] =  accuracy_score(y_test_asn, y_pred_asn)"
      ]
    },
    {
      "cell_type": "code",
      "execution_count": null,
      "id": "a12a1494",
      "metadata": {
        "id": "a12a1494",
        "outputId": "7f6c7f46-5b99-4f3b-adff-af2da30ce1b2"
      },
      "outputs": [
        {
          "name": "stdout",
          "output_type": "stream",
          "text": [
            "ROC AUC score:  0.6670128983146106\n"
          ]
        }
      ],
      "source": [
        "from sklearn.metrics import roc_auc_score\n",
        "print('ROC AUC score: ', roc_auc_score(y_test_asn, clf_eur.predict_proba(X_test_asn)[:, 1]))"
      ]
    },
    {
      "cell_type": "code",
      "execution_count": null,
      "id": "2a4f6811",
      "metadata": {
        "id": "2a4f6811"
      },
      "outputs": [],
      "source": [
        "dict_roc['eur_asn'] = roc_auc_score(y_test_asn, clf_eur.predict_proba(X_test_asn)[:, 1])"
      ]
    },
    {
      "cell_type": "code",
      "execution_count": null,
      "id": "d944ba72",
      "metadata": {
        "id": "d944ba72",
        "outputId": "bd247688-c36f-4e5f-d10c-090610135b0d"
      },
      "outputs": [
        {
          "data": {
            "image/png": "[encoded data removed]",
            "text/plain": [
              "<Figure size 640x480 with 2 Axes>"
            ]
          },
          "metadata": {},
          "output_type": "display_data"
        }
      ],
      "source": [
        "def show_confusion_matrix(confusion_matrix):\n",
        "    hmap = sns.heatmap(confusion_matrix, annot=True, fmt=\"d\", cmap=\"Blues\")\n",
        "    hmap.yaxis.set_ticklabels(hmap.yaxis.get_ticklabels(), rotation=0, ha='right')\n",
        "    hmap.xaxis.set_ticklabels(hmap.xaxis.get_ticklabels(), rotation=30, ha='right')\n",
        "    plt.ylabel('True')\n",
        "    plt.xlabel('Predicted');\n",
        "\n",
        "cm = confusion_matrix(y_test_asn, y_pred_asn)\n",
        "df_cm = pd.DataFrame(cm, index=[0,1], columns=[0,1])\n",
        "show_confusion_matrix(df_cm)"
      ]
    },
    {
      "cell_type": "code",
      "execution_count": null,
      "id": "10efcd35",
      "metadata": {
        "id": "10efcd35",
        "outputId": "e0f66616-e83d-405a-ff4a-9fa218482aea"
      },
      "outputs": [
        {
          "name": "stdout",
          "output_type": "stream",
          "text": [
            "              precision    recall  f1-score   support\n",
            "\n",
            "           0       0.62      0.67      0.64       383\n",
            "           1       0.63      0.58      0.60       367\n",
            "\n",
            "    accuracy                           0.63       750\n",
            "   macro avg       0.63      0.62      0.62       750\n",
            "weighted avg       0.63      0.63      0.62       750\n",
            "\n"
          ]
        }
      ],
      "source": [
        "from sklearn.metrics import classification_report\n",
        "print(classification_report(y_test_asn, y_pred_asn, target_names=['0','1']))"
      ]
    },
    {
      "cell_type": "markdown",
      "id": "8c7e5bd9",
      "metadata": {
        "id": "8c7e5bd9"
      },
      "source": [
        "### African to African"
      ]
    },
    {
      "cell_type": "code",
      "execution_count": null,
      "id": "07ee1ac0",
      "metadata": {
        "id": "07ee1ac0"
      },
      "outputs": [],
      "source": [
        "from sklearn.linear_model import LogisticRegression\n",
        "\n",
        "clf_afr = LogisticRegression(random_state=0).fit(X_afr, y_afr)\n",
        "y_pred_afr = clf_afr.predict(X_test_afr)"
      ]
    },
    {
      "cell_type": "code",
      "execution_count": null,
      "id": "bcb5a416",
      "metadata": {
        "id": "bcb5a416",
        "outputId": "71b322ab-54da-49b5-a7b8-c6bd5b553653"
      },
      "outputs": [
        {
          "name": "stdout",
          "output_type": "stream",
          "text": [
            "Accuracy score:  0.6493333333333333\n"
          ]
        }
      ],
      "source": [
        "print('Accuracy score: ', accuracy_score(y_test_afr, y_pred_afr))"
      ]
    },
    {
      "cell_type": "code",
      "execution_count": null,
      "id": "d1832c3b",
      "metadata": {
        "id": "d1832c3b"
      },
      "outputs": [],
      "source": [
        "dict_acc['afr_afr'] =  accuracy_score(y_test_afr, y_pred_afr)"
      ]
    },
    {
      "cell_type": "code",
      "execution_count": null,
      "id": "dee79a55",
      "metadata": {
        "id": "dee79a55",
        "outputId": "8064b7f9-a156-45ba-cc51-d311437d7581"
      },
      "outputs": [
        {
          "name": "stdout",
          "output_type": "stream",
          "text": [
            "ROC AUC score:  0.6859583357179648\n"
          ]
        }
      ],
      "source": [
        "from sklearn.metrics import roc_auc_score\n",
        "print('ROC AUC score: ', roc_auc_score(y_test_afr, clf_afr.predict_proba(X_test_afr)[:, 1]))"
      ]
    },
    {
      "cell_type": "code",
      "execution_count": null,
      "id": "a85cc399",
      "metadata": {
        "id": "a85cc399"
      },
      "outputs": [],
      "source": [
        "dict_roc['afr_afr'] = roc_auc_score(y_test_afr, clf_afr.predict_proba(X_test_afr)[:, 1])"
      ]
    },
    {
      "cell_type": "code",
      "execution_count": null,
      "id": "dde26443",
      "metadata": {
        "id": "dde26443",
        "outputId": "459ec5f3-90e1-470e-90c0-85afc1ffcb61"
      },
      "outputs": [
        {
          "data": {
            "image/png": "[encoded data removed]",
            "text/plain": [
              "<Figure size 640x480 with 2 Axes>"
            ]
          },
          "metadata": {},
          "output_type": "display_data"
        }
      ],
      "source": [
        "def show_confusion_matrix(confusion_matrix):\n",
        "    hmap = sns.heatmap(confusion_matrix, annot=True, fmt=\"d\", cmap=\"Blues\")\n",
        "    hmap.yaxis.set_ticklabels(hmap.yaxis.get_ticklabels(), rotation=0, ha='right')\n",
        "    hmap.xaxis.set_ticklabels(hmap.xaxis.get_ticklabels(), rotation=30, ha='right')\n",
        "    plt.ylabel('True')\n",
        "    plt.xlabel('Predicted');\n",
        "\n",
        "cm = confusion_matrix(y_test_afr, y_pred_afr)\n",
        "df_cm = pd.DataFrame(cm, index=[0,1], columns=[0,1])\n",
        "show_confusion_matrix(df_cm)"
      ]
    },
    {
      "cell_type": "code",
      "execution_count": null,
      "id": "9cb03b8f",
      "metadata": {
        "id": "9cb03b8f",
        "outputId": "5883fdce-8bc3-4e18-80b5-d94a0b36149a"
      },
      "outputs": [
        {
          "name": "stdout",
          "output_type": "stream",
          "text": [
            "              precision    recall  f1-score   support\n",
            "\n",
            "           0       0.69      0.63      0.66       404\n",
            "           1       0.61      0.68      0.64       346\n",
            "\n",
            "    accuracy                           0.65       750\n",
            "   macro avg       0.65      0.65      0.65       750\n",
            "weighted avg       0.65      0.65      0.65       750\n",
            "\n"
          ]
        }
      ],
      "source": [
        "from sklearn.metrics import classification_report\n",
        "print(classification_report(y_test_afr, y_pred_afr, target_names=['0','1']))"
      ]
    },
    {
      "cell_type": "markdown",
      "id": "9c4dbbff",
      "metadata": {
        "id": "9c4dbbff"
      },
      "source": [
        "### African to European"
      ]
    },
    {
      "cell_type": "code",
      "execution_count": null,
      "id": "d7aee381",
      "metadata": {
        "id": "d7aee381"
      },
      "outputs": [],
      "source": [
        "y_pred_eur = clf_afr.predict(X_test_eur)"
      ]
    },
    {
      "cell_type": "code",
      "execution_count": null,
      "id": "9fde163e",
      "metadata": {
        "id": "9fde163e",
        "outputId": "7a0dc0c4-e784-495d-e527-b759bbd6fb0b"
      },
      "outputs": [
        {
          "name": "stdout",
          "output_type": "stream",
          "text": [
            "Accuracy score:  0.6213333333333333\n"
          ]
        }
      ],
      "source": [
        "print('Accuracy score: ', accuracy_score(y_test_eur, y_pred_eur))"
      ]
    },
    {
      "cell_type": "code",
      "execution_count": null,
      "id": "60147857",
      "metadata": {
        "id": "60147857"
      },
      "outputs": [],
      "source": [
        "dict_acc['afr_eur'] =  accuracy_score(y_test_eur, y_pred_eur)"
      ]
    },
    {
      "cell_type": "code",
      "execution_count": null,
      "id": "38a8ffef",
      "metadata": {
        "id": "38a8ffef",
        "outputId": "5b01656e-bc2f-43bb-abc3-e69fc69ebb0f"
      },
      "outputs": [
        {
          "name": "stdout",
          "output_type": "stream",
          "text": [
            "ROC AUC score:  0.6722403741431225\n"
          ]
        }
      ],
      "source": [
        "from sklearn.metrics import roc_auc_score\n",
        "print('ROC AUC score: ', roc_auc_score(y_test_eur, clf_afr.predict_proba(X_test_eur)[:, 1]))"
      ]
    },
    {
      "cell_type": "code",
      "execution_count": null,
      "id": "6a3d5e2c",
      "metadata": {
        "id": "6a3d5e2c"
      },
      "outputs": [],
      "source": [
        "dict_roc['afr_eur'] = roc_auc_score(y_test_eur, clf_afr.predict_proba(X_test_eur)[:, 1])"
      ]
    },
    {
      "cell_type": "code",
      "execution_count": null,
      "id": "e7cf5775",
      "metadata": {
        "id": "e7cf5775",
        "outputId": "81556b7d-5c63-4f33-b747-e01abcf93f30"
      },
      "outputs": [
        {
          "data": {
            "image/png": "[encoded data removed]",
            "text/plain": [
              "<Figure size 640x480 with 2 Axes>"
            ]
          },
          "metadata": {},
          "output_type": "display_data"
        }
      ],
      "source": [
        "def show_confusion_matrix(confusion_matrix):\n",
        "    hmap = sns.heatmap(confusion_matrix, annot=True, fmt=\"d\", cmap=\"Blues\")\n",
        "    hmap.yaxis.set_ticklabels(hmap.yaxis.get_ticklabels(), rotation=0, ha='right')\n",
        "    hmap.xaxis.set_ticklabels(hmap.xaxis.get_ticklabels(), rotation=30, ha='right')\n",
        "    plt.ylabel('True')\n",
        "    plt.xlabel('Predicted');\n",
        "\n",
        "cm = confusion_matrix(y_test_eur, y_pred_eur)\n",
        "df_cm = pd.DataFrame(cm, index=[0,1], columns=[0,1])\n",
        "show_confusion_matrix(df_cm)"
      ]
    },
    {
      "cell_type": "code",
      "execution_count": null,
      "id": "d44cfb26",
      "metadata": {
        "id": "d44cfb26",
        "outputId": "6cc933cb-9501-45ef-c09b-c2347cb6704b"
      },
      "outputs": [
        {
          "name": "stdout",
          "output_type": "stream",
          "text": [
            "              precision    recall  f1-score   support\n",
            "\n",
            "           0       0.64      0.62      0.63       387\n",
            "           1       0.61      0.62      0.61       363\n",
            "\n",
            "    accuracy                           0.62       750\n",
            "   macro avg       0.62      0.62      0.62       750\n",
            "weighted avg       0.62      0.62      0.62       750\n",
            "\n"
          ]
        }
      ],
      "source": [
        "from sklearn.metrics import classification_report\n",
        "print(classification_report(y_test_eur, y_pred_eur, target_names=['0','1']))"
      ]
    },
    {
      "cell_type": "markdown",
      "id": "eb058263",
      "metadata": {
        "id": "eb058263"
      },
      "source": [
        "### African to Asian"
      ]
    },
    {
      "cell_type": "code",
      "execution_count": null,
      "id": "4e036133",
      "metadata": {
        "id": "4e036133"
      },
      "outputs": [],
      "source": [
        "y_pred_asn = clf_afr.predict(X_test_asn)"
      ]
    },
    {
      "cell_type": "code",
      "execution_count": null,
      "id": "f17fbcd9",
      "metadata": {
        "id": "f17fbcd9",
        "outputId": "b527ebbe-e018-4098-9738-db7de17b6a90"
      },
      "outputs": [
        {
          "name": "stdout",
          "output_type": "stream",
          "text": [
            "Accuracy score:  0.6253333333333333\n"
          ]
        }
      ],
      "source": [
        "print('Accuracy score: ', accuracy_score(y_test_asn, y_pred_asn))"
      ]
    },
    {
      "cell_type": "code",
      "execution_count": null,
      "id": "35b13846",
      "metadata": {
        "id": "35b13846"
      },
      "outputs": [],
      "source": [
        "dict_acc['afr_asn'] =  accuracy_score(y_test_asn, y_pred_asn)"
      ]
    },
    {
      "cell_type": "code",
      "execution_count": null,
      "id": "a8399fa2",
      "metadata": {
        "id": "a8399fa2",
        "outputId": "cf87dc69-6cf6-4cd4-eb27-652128999010"
      },
      "outputs": [
        {
          "name": "stdout",
          "output_type": "stream",
          "text": [
            "ROC AUC score:  0.6591088566529834\n"
          ]
        }
      ],
      "source": [
        "from sklearn.metrics import roc_auc_score\n",
        "print('ROC AUC score: ', roc_auc_score(y_test_asn, clf_afr.predict_proba(X_test_asn)[:, 1]))"
      ]
    },
    {
      "cell_type": "code",
      "execution_count": null,
      "id": "8b4e9252",
      "metadata": {
        "id": "8b4e9252"
      },
      "outputs": [],
      "source": [
        "dict_roc['afr_asn'] = roc_auc_score(y_test_asn, clf_afr.predict_proba(X_test_asn)[:, 1])"
      ]
    },
    {
      "cell_type": "code",
      "execution_count": null,
      "id": "28057de6",
      "metadata": {
        "id": "28057de6",
        "outputId": "5a7bff2b-8650-4f99-ac68-e4bb40e92466"
      },
      "outputs": [
        {
          "data": {
            "image/png": "[encoded data removed]",
            "text/plain": [
              "<Figure size 640x480 with 2 Axes>"
            ]
          },
          "metadata": {},
          "output_type": "display_data"
        }
      ],
      "source": [
        "def show_confusion_matrix(confusion_matrix):\n",
        "    hmap = sns.heatmap(confusion_matrix, annot=True, fmt=\"d\", cmap=\"Blues\")\n",
        "    hmap.yaxis.set_ticklabels(hmap.yaxis.get_ticklabels(), rotation=0, ha='right')\n",
        "    hmap.xaxis.set_ticklabels(hmap.xaxis.get_ticklabels(), rotation=30, ha='right')\n",
        "    plt.ylabel('True')\n",
        "    plt.xlabel('Predicted');\n",
        "\n",
        "cm = confusion_matrix(y_test_asn, y_pred_asn)\n",
        "df_cm = pd.DataFrame(cm, index=[0,1], columns=[0,1])\n",
        "show_confusion_matrix(df_cm)"
      ]
    },
    {
      "cell_type": "code",
      "execution_count": null,
      "id": "5a88e07a",
      "metadata": {
        "id": "5a88e07a",
        "outputId": "94ec4c6f-4928-4cdd-c887-4e40c149725d"
      },
      "outputs": [
        {
          "name": "stdout",
          "output_type": "stream",
          "text": [
            "              precision    recall  f1-score   support\n",
            "\n",
            "           0       0.63      0.64      0.64       383\n",
            "           1       0.62      0.61      0.61       367\n",
            "\n",
            "    accuracy                           0.63       750\n",
            "   macro avg       0.63      0.63      0.63       750\n",
            "weighted avg       0.63      0.63      0.63       750\n",
            "\n"
          ]
        }
      ],
      "source": [
        "from sklearn.metrics import classification_report\n",
        "print(classification_report(y_test_asn, y_pred_asn, target_names=['0','1']))"
      ]
    },
    {
      "cell_type": "markdown",
      "id": "f4fa5d28",
      "metadata": {
        "id": "f4fa5d28"
      },
      "source": [
        "### Asian to Asian"
      ]
    },
    {
      "cell_type": "code",
      "execution_count": null,
      "id": "e7c6e9c9",
      "metadata": {
        "id": "e7c6e9c9"
      },
      "outputs": [],
      "source": [
        "from sklearn.linear_model import LogisticRegression\n",
        "\n",
        "clf_asn = LogisticRegression(random_state=0).fit(X_asn, y_asn)\n",
        "y_pred_asn = clf_asn.predict(X_test_asn)"
      ]
    },
    {
      "cell_type": "code",
      "execution_count": null,
      "id": "a56a1cdf",
      "metadata": {
        "id": "a56a1cdf",
        "outputId": "dce1c16f-d2d8-44d6-ccf5-96cd0a9dc61e"
      },
      "outputs": [
        {
          "name": "stdout",
          "output_type": "stream",
          "text": [
            "Accuracy score:  0.608\n"
          ]
        }
      ],
      "source": [
        "print('Accuracy score: ', accuracy_score(y_test_asn, y_pred_asn))"
      ]
    },
    {
      "cell_type": "code",
      "execution_count": null,
      "id": "77dd76f5",
      "metadata": {
        "id": "77dd76f5"
      },
      "outputs": [],
      "source": [
        "dict_acc['asn_asn'] =  accuracy_score(y_test_asn, y_pred_asn)"
      ]
    },
    {
      "cell_type": "code",
      "execution_count": null,
      "id": "ac0a6097",
      "metadata": {
        "id": "ac0a6097",
        "outputId": "21e6b0e7-4e50-49a4-9402-1b1290f78b92"
      },
      "outputs": [
        {
          "name": "stdout",
          "output_type": "stream",
          "text": [
            "ROC AUC score:  0.6525707699859847\n"
          ]
        }
      ],
      "source": [
        "from sklearn.metrics import roc_auc_score\n",
        "print('ROC AUC score: ', roc_auc_score(y_test_asn, clf_asn.predict_proba(X_test_asn)[:, 1]))"
      ]
    },
    {
      "cell_type": "code",
      "execution_count": null,
      "id": "969e4ecb",
      "metadata": {
        "id": "969e4ecb"
      },
      "outputs": [],
      "source": [
        "dict_roc['asn_asn'] = roc_auc_score(y_test_asn, clf_asn.predict_proba(X_test_asn)[:, 1])"
      ]
    },
    {
      "cell_type": "code",
      "execution_count": null,
      "id": "c8b145a2",
      "metadata": {
        "id": "c8b145a2",
        "outputId": "01d11c5b-80fb-4caf-f001-84973dc32420"
      },
      "outputs": [
        {
          "data": {
            "image/png": "[encoded data removed]",
            "text/plain": [
              "<Figure size 640x480 with 2 Axes>"
            ]
          },
          "metadata": {},
          "output_type": "display_data"
        }
      ],
      "source": [
        "def show_confusion_matrix(confusion_matrix):\n",
        "    hmap = sns.heatmap(confusion_matrix, annot=True, fmt=\"d\", cmap=\"Blues\")\n",
        "    hmap.yaxis.set_ticklabels(hmap.yaxis.get_ticklabels(), rotation=0, ha='right')\n",
        "    hmap.xaxis.set_ticklabels(hmap.xaxis.get_ticklabels(), rotation=30, ha='right')\n",
        "    plt.ylabel('True')\n",
        "    plt.xlabel('Predicted');\n",
        "\n",
        "cm = confusion_matrix(y_test_asn, y_pred_asn)\n",
        "df_cm = pd.DataFrame(cm, index=[0,1], columns=[0,1])\n",
        "show_confusion_matrix(df_cm)"
      ]
    },
    {
      "cell_type": "code",
      "execution_count": null,
      "id": "6ef9a4c9",
      "metadata": {
        "id": "6ef9a4c9",
        "outputId": "7ebdd1c9-f296-4a2a-b365-b54d25a72d43"
      },
      "outputs": [
        {
          "name": "stdout",
          "output_type": "stream",
          "text": [
            "              precision    recall  f1-score   support\n",
            "\n",
            "           0       0.61      0.64      0.63       383\n",
            "           1       0.61      0.57      0.59       367\n",
            "\n",
            "    accuracy                           0.61       750\n",
            "   macro avg       0.61      0.61      0.61       750\n",
            "weighted avg       0.61      0.61      0.61       750\n",
            "\n"
          ]
        }
      ],
      "source": [
        "from sklearn.metrics import classification_report\n",
        "print(classification_report(y_test_asn, y_pred_asn, target_names=['0','1']))"
      ]
    },
    {
      "cell_type": "markdown",
      "id": "ba082dde",
      "metadata": {
        "id": "ba082dde"
      },
      "source": [
        "### Asian to European"
      ]
    },
    {
      "cell_type": "code",
      "execution_count": null,
      "id": "16d577f0",
      "metadata": {
        "id": "16d577f0"
      },
      "outputs": [],
      "source": [
        "y_pred_eur = clf_asn.predict(X_test_eur)"
      ]
    },
    {
      "cell_type": "code",
      "execution_count": null,
      "id": "078ed09c",
      "metadata": {
        "id": "078ed09c",
        "outputId": "b68ba670-0ea1-421a-b9fe-1ed9d14df039"
      },
      "outputs": [
        {
          "name": "stdout",
          "output_type": "stream",
          "text": [
            "Accuracy score:  0.6173333333333333\n"
          ]
        }
      ],
      "source": [
        "print('Accuracy score: ', accuracy_score(y_test_eur, y_pred_eur))"
      ]
    },
    {
      "cell_type": "code",
      "execution_count": null,
      "id": "1e6f1918",
      "metadata": {
        "id": "1e6f1918"
      },
      "outputs": [],
      "source": [
        "dict_acc['asn_eur'] =  accuracy_score(y_test_eur, y_pred_eur)"
      ]
    },
    {
      "cell_type": "code",
      "execution_count": null,
      "id": "5d494621",
      "metadata": {
        "id": "5d494621",
        "outputId": "223c3334-d750-4e3e-9ca5-754544994b2e"
      },
      "outputs": [
        {
          "name": "stdout",
          "output_type": "stream",
          "text": [
            "ROC AUC score:  0.6731159373865505\n"
          ]
        }
      ],
      "source": [
        "from sklearn.metrics import roc_auc_score\n",
        "print('ROC AUC score: ', roc_auc_score(y_test_eur, clf_asn.predict_proba(X_test_eur)[:, 1]))"
      ]
    },
    {
      "cell_type": "code",
      "execution_count": null,
      "id": "de64a5c0",
      "metadata": {
        "id": "de64a5c0"
      },
      "outputs": [],
      "source": [
        "dict_roc['asn_eur'] = roc_auc_score(y_test_eur, clf_asn.predict_proba(X_test_eur)[:, 1])"
      ]
    },
    {
      "cell_type": "code",
      "execution_count": null,
      "id": "6cd206e0",
      "metadata": {
        "id": "6cd206e0",
        "outputId": "6145eebe-8c55-489d-de5d-5081747c88f6"
      },
      "outputs": [
        {
          "data": {
            "image/png": "[encoded data removed]",
            "text/plain": [
              "<Figure size 640x480 with 2 Axes>"
            ]
          },
          "metadata": {},
          "output_type": "display_data"
        }
      ],
      "source": [
        "def show_confusion_matrix(confusion_matrix):\n",
        "    hmap = sns.heatmap(confusion_matrix, annot=True, fmt=\"d\", cmap=\"Blues\")\n",
        "    hmap.yaxis.set_ticklabels(hmap.yaxis.get_ticklabels(), rotation=0, ha='right')\n",
        "    hmap.xaxis.set_ticklabels(hmap.xaxis.get_ticklabels(), rotation=30, ha='right')\n",
        "    plt.ylabel('True')\n",
        "    plt.xlabel('Predicted');\n",
        "\n",
        "cm = confusion_matrix(y_test_eur, y_pred_eur)\n",
        "df_cm = pd.DataFrame(cm, index=[0,1], columns=[0,1])\n",
        "show_confusion_matrix(df_cm)"
      ]
    },
    {
      "cell_type": "code",
      "execution_count": null,
      "id": "558a3ac4",
      "metadata": {
        "id": "558a3ac4",
        "outputId": "61752044-150e-43cc-862b-cfd8498a3a2c"
      },
      "outputs": [
        {
          "name": "stdout",
          "output_type": "stream",
          "text": [
            "              precision    recall  f1-score   support\n",
            "\n",
            "           0       0.63      0.62      0.62       387\n",
            "           1       0.60      0.62      0.61       363\n",
            "\n",
            "    accuracy                           0.62       750\n",
            "   macro avg       0.62      0.62      0.62       750\n",
            "weighted avg       0.62      0.62      0.62       750\n",
            "\n"
          ]
        }
      ],
      "source": [
        "from sklearn.metrics import classification_report\n",
        "print(classification_report(y_test_eur, y_pred_eur, target_names=['0','1']))"
      ]
    },
    {
      "cell_type": "markdown",
      "id": "ce3a1350",
      "metadata": {
        "id": "ce3a1350"
      },
      "source": [
        "### Asian to African"
      ]
    },
    {
      "cell_type": "code",
      "execution_count": null,
      "id": "b23a318d",
      "metadata": {
        "id": "b23a318d"
      },
      "outputs": [],
      "source": [
        "y_pred_afr = clf_asn.predict(X_test_afr)"
      ]
    },
    {
      "cell_type": "code",
      "execution_count": null,
      "id": "4348c731",
      "metadata": {
        "id": "4348c731",
        "outputId": "b2a8daca-2ab1-44e1-ea78-6d022e47aa7b"
      },
      "outputs": [
        {
          "name": "stdout",
          "output_type": "stream",
          "text": [
            "Accuracy score:  0.6573333333333333\n"
          ]
        }
      ],
      "source": [
        "print('Accuracy score: ', accuracy_score(y_test_afr, y_pred_afr))"
      ]
    },
    {
      "cell_type": "code",
      "execution_count": null,
      "id": "2ffce080",
      "metadata": {
        "id": "2ffce080"
      },
      "outputs": [],
      "source": [
        "dict_acc['asn_afr'] =  accuracy_score(y_test_afr, y_pred_afr)"
      ]
    },
    {
      "cell_type": "code",
      "execution_count": null,
      "id": "7a11aa02",
      "metadata": {
        "id": "7a11aa02",
        "outputId": "b258b39d-1c1c-4d59-cec2-0d67654b045d"
      },
      "outputs": [
        {
          "name": "stdout",
          "output_type": "stream",
          "text": [
            "ROC AUC score:  0.7070265552566818\n"
          ]
        }
      ],
      "source": [
        "from sklearn.metrics import roc_auc_score\n",
        "print('ROC AUC score: ', roc_auc_score(y_test_afr, clf_asn.predict_proba(X_test_afr)[:, 1]))"
      ]
    },
    {
      "cell_type": "code",
      "execution_count": null,
      "id": "6477d283",
      "metadata": {
        "id": "6477d283"
      },
      "outputs": [],
      "source": [
        "dict_roc['asn_afr'] = roc_auc_score(y_test_afr, clf_asn.predict_proba(X_test_afr)[:, 1])"
      ]
    },
    {
      "cell_type": "code",
      "execution_count": null,
      "id": "7846e183",
      "metadata": {
        "id": "7846e183",
        "outputId": "5982d3a1-c310-432c-e25a-321984c5e90e"
      },
      "outputs": [
        {
          "data": {
            "image/png": "[encoded data removed]",
            "text/plain": [
              "<Figure size 640x480 with 2 Axes>"
            ]
          },
          "metadata": {},
          "output_type": "display_data"
        }
      ],
      "source": [
        "def show_confusion_matrix(confusion_matrix):\n",
        "    hmap = sns.heatmap(confusion_matrix, annot=True, fmt=\"d\", cmap=\"Blues\")\n",
        "    hmap.yaxis.set_ticklabels(hmap.yaxis.get_ticklabels(), rotation=0, ha='right')\n",
        "    hmap.xaxis.set_ticklabels(hmap.xaxis.get_ticklabels(), rotation=30, ha='right')\n",
        "    plt.ylabel('True')\n",
        "    plt.xlabel('Predicted');\n",
        "\n",
        "cm = confusion_matrix(y_test_afr, y_pred_afr)\n",
        "df_cm = pd.DataFrame(cm, index=[0,1], columns=[0,1])\n",
        "show_confusion_matrix(df_cm)"
      ]
    },
    {
      "cell_type": "code",
      "execution_count": null,
      "id": "4b35b7c0",
      "metadata": {
        "id": "4b35b7c0",
        "outputId": "31573168-5cf5-4d5d-feb5-98acc71000b1"
      },
      "outputs": [
        {
          "name": "stdout",
          "output_type": "stream",
          "text": [
            "              precision    recall  f1-score   support\n",
            "\n",
            "           0       0.70      0.65      0.67       404\n",
            "           1       0.62      0.67      0.64       346\n",
            "\n",
            "    accuracy                           0.66       750\n",
            "   macro avg       0.66      0.66      0.66       750\n",
            "weighted avg       0.66      0.66      0.66       750\n",
            "\n"
          ]
        }
      ],
      "source": [
        "from sklearn.metrics import classification_report\n",
        "print(classification_report(y_test_afr, y_pred_afr, target_names=['0','1']))"
      ]
    },
    {
      "cell_type": "code",
      "execution_count": null,
      "id": "72fe6ac1",
      "metadata": {
        "id": "72fe6ac1"
      },
      "outputs": [],
      "source": [
        "metrics = []\n",
        "metrics.append(dict_acc)\n",
        "metrics.append(dict_roc)"
      ]
    },
    {
      "cell_type": "code",
      "execution_count": null,
      "id": "0c085a34",
      "metadata": {
        "id": "0c085a34"
      },
      "outputs": [],
      "source": [
        "metrics = pd.DataFrame(metrics)\n",
        "metrics_onetoone = metrics.T.rename(columns={0:'Accuracy', 1:'ROC AUC'})"
      ]
    },
    {
      "cell_type": "markdown",
      "id": "654d7daa",
      "metadata": {
        "id": "654d7daa"
      },
      "source": [
        "## Many-to-one"
      ]
    },
    {
      "cell_type": "code",
      "execution_count": null,
      "id": "eecf2f9d",
      "metadata": {
        "id": "eecf2f9d"
      },
      "outputs": [],
      "source": [
        "main_df_train = pd.concat([final_train_eur, final_train_afr, final_train_asn])"
      ]
    },
    {
      "cell_type": "code",
      "execution_count": null,
      "id": "8c071dad",
      "metadata": {
        "id": "8c071dad"
      },
      "outputs": [],
      "source": [
        "main_df_test = pd.concat([final_test_eur, final_test_afr, final_test_asn])"
      ]
    },
    {
      "cell_type": "code",
      "execution_count": null,
      "id": "199c541f",
      "metadata": {
        "id": "199c541f"
      },
      "outputs": [],
      "source": [
        "X_train = main_df_train.drop(['target'], axis=1)\n",
        "y_train = main_df_train.target\n",
        "X_test = main_df_test.drop(['target'], axis=1)\n",
        "y_test = main_df_test.target"
      ]
    },
    {
      "cell_type": "code",
      "execution_count": null,
      "id": "f5c7e5f8",
      "metadata": {
        "id": "f5c7e5f8"
      },
      "outputs": [],
      "source": [
        "from sklearn.linear_model import LogisticRegression\n",
        "\n",
        "main_clf = LogisticRegression(random_state=0).fit(X_train, y_train)\n",
        "y_pred = main_clf.predict(X_test)"
      ]
    },
    {
      "cell_type": "code",
      "execution_count": null,
      "id": "8b67ab3a",
      "metadata": {
        "id": "8b67ab3a",
        "outputId": "962cd89a-b9d7-40cd-a5d7-33c4055a396e"
      },
      "outputs": [
        {
          "name": "stdout",
          "output_type": "stream",
          "text": [
            "Accuracy score:  0.6417777777777778\n"
          ]
        }
      ],
      "source": [
        "print('Accuracy score: ', accuracy_score(y_test, y_pred))"
      ]
    },
    {
      "cell_type": "code",
      "execution_count": null,
      "id": "205fbf18",
      "metadata": {
        "id": "205fbf18",
        "outputId": "18ccc17b-39a3-4e0a-ad24-4bc3e0853b91"
      },
      "outputs": [
        {
          "name": "stdout",
          "output_type": "stream",
          "text": [
            "ROC AUC score:  0.6771320842542574\n"
          ]
        }
      ],
      "source": [
        "print('ROC AUC score: ', roc_auc_score(y_test, clf_asn.predict_proba(X_test)[:, 1]))"
      ]
    },
    {
      "cell_type": "markdown",
      "id": "b2dd1b39",
      "metadata": {
        "id": "b2dd1b39"
      },
      "source": [
        "### Many to European"
      ]
    },
    {
      "cell_type": "code",
      "execution_count": null,
      "id": "589fee56",
      "metadata": {
        "id": "589fee56"
      },
      "outputs": [],
      "source": [
        "dict_acc_main = {}\n",
        "dict_roc_main = {}"
      ]
    },
    {
      "cell_type": "code",
      "execution_count": null,
      "id": "6d04c144",
      "metadata": {
        "id": "6d04c144"
      },
      "outputs": [],
      "source": [
        "y_pred_eur = main_clf.predict(X_test_eur)"
      ]
    },
    {
      "cell_type": "code",
      "execution_count": null,
      "id": "db03f6a2",
      "metadata": {
        "id": "db03f6a2",
        "outputId": "ddacb3d1-1e99-47c0-b368-97c995f7fdef"
      },
      "outputs": [
        {
          "name": "stdout",
          "output_type": "stream",
          "text": [
            "Accuracy score:  0.6293333333333333\n"
          ]
        }
      ],
      "source": [
        "print('Accuracy score: ', accuracy_score(y_test_eur, y_pred_eur))"
      ]
    },
    {
      "cell_type": "code",
      "execution_count": null,
      "id": "511a32c3",
      "metadata": {
        "id": "511a32c3"
      },
      "outputs": [],
      "source": [
        "dict_acc_main['all_eur'] = accuracy_score(y_test_eur, y_pred_eur)"
      ]
    },
    {
      "cell_type": "code",
      "execution_count": null,
      "id": "e99f8ca3",
      "metadata": {
        "id": "e99f8ca3",
        "outputId": "05c6bb7c-e907-4a5d-d136-86bd9a9cde63"
      },
      "outputs": [
        {
          "name": "stdout",
          "output_type": "stream",
          "text": [
            "ROC AUC score:  0.6695496188096611\n"
          ]
        }
      ],
      "source": [
        "print('ROC AUC score: ', roc_auc_score(y_test_eur, main_clf.predict_proba(X_test_eur)[:, 1]))"
      ]
    },
    {
      "cell_type": "code",
      "execution_count": null,
      "id": "cb5d8bb6",
      "metadata": {
        "id": "cb5d8bb6"
      },
      "outputs": [],
      "source": [
        "dict_roc_main['all_eur'] = roc_auc_score(y_test_eur, main_clf.predict_proba(X_test_eur)[:, 1])"
      ]
    },
    {
      "cell_type": "markdown",
      "id": "9c0eb477",
      "metadata": {
        "id": "9c0eb477"
      },
      "source": [
        "### Many to African"
      ]
    },
    {
      "cell_type": "code",
      "execution_count": null,
      "id": "55787d34",
      "metadata": {
        "id": "55787d34"
      },
      "outputs": [],
      "source": [
        "y_pred_afr = main_clf.predict(X_test_afr)"
      ]
    },
    {
      "cell_type": "code",
      "execution_count": null,
      "id": "d61c6817",
      "metadata": {
        "id": "d61c6817",
        "outputId": "8363b72a-00a8-450a-e534-b061e185af20"
      },
      "outputs": [
        {
          "name": "stdout",
          "output_type": "stream",
          "text": [
            "Accuracy score:  0.6666666666666666\n"
          ]
        }
      ],
      "source": [
        "print('Accuracy score: ', accuracy_score(y_test_afr, y_pred_afr))"
      ]
    },
    {
      "cell_type": "code",
      "execution_count": null,
      "id": "a6ac44c2",
      "metadata": {
        "id": "a6ac44c2"
      },
      "outputs": [],
      "source": [
        "dict_acc_main['all_afr'] = accuracy_score(y_test_afr, y_pred_afr)"
      ]
    },
    {
      "cell_type": "code",
      "execution_count": null,
      "id": "c53c0724",
      "metadata": {
        "id": "c53c0724",
        "outputId": "374eb6cc-9155-47b4-a0f0-e17ce3dc1b11"
      },
      "outputs": [
        {
          "name": "stdout",
          "output_type": "stream",
          "text": [
            "ROC AUC score:  0.7022119842042007\n"
          ]
        }
      ],
      "source": [
        "print('ROC AUC score: ', roc_auc_score(y_test_afr, main_clf.predict_proba(X_test_afr)[:, 1]))"
      ]
    },
    {
      "cell_type": "code",
      "execution_count": null,
      "id": "93782819",
      "metadata": {
        "id": "93782819"
      },
      "outputs": [],
      "source": [
        "dict_roc_main['all_afr'] = roc_auc_score(y_test_afr, main_clf.predict_proba(X_test_afr)[:, 1])"
      ]
    },
    {
      "cell_type": "markdown",
      "id": "d8bf4926",
      "metadata": {
        "id": "d8bf4926"
      },
      "source": [
        "### Many to Asian"
      ]
    },
    {
      "cell_type": "code",
      "execution_count": null,
      "id": "d0d5f4d7",
      "metadata": {
        "id": "d0d5f4d7"
      },
      "outputs": [],
      "source": [
        "y_pred_asn = main_clf.predict(X_test_asn)"
      ]
    },
    {
      "cell_type": "code",
      "execution_count": null,
      "id": "7e217ca6",
      "metadata": {
        "id": "7e217ca6",
        "outputId": "5838f742-f8dc-48b8-bec4-f603cfc1488c"
      },
      "outputs": [
        {
          "name": "stdout",
          "output_type": "stream",
          "text": [
            "Accuracy score:  0.6293333333333333\n"
          ]
        }
      ],
      "source": [
        "print('Accuracy score: ', accuracy_score(y_test_asn, y_pred_asn))"
      ]
    },
    {
      "cell_type": "code",
      "execution_count": null,
      "id": "c30d868d",
      "metadata": {
        "id": "c30d868d"
      },
      "outputs": [],
      "source": [
        "dict_acc_main['all_asn'] = accuracy_score(y_test_asn, y_pred_asn)"
      ]
    },
    {
      "cell_type": "code",
      "execution_count": null,
      "id": "2d8ec1a6",
      "metadata": {
        "id": "2d8ec1a6",
        "outputId": "31014690-1089-4824-fc77-de853280cb04"
      },
      "outputs": [
        {
          "name": "stdout",
          "output_type": "stream",
          "text": [
            "ROC AUC score:  0.6616771366168425\n"
          ]
        }
      ],
      "source": [
        "print('ROC AUC score: ', roc_auc_score(y_test_asn, main_clf.predict_proba(X_test_asn)[:, 1]))"
      ]
    },
    {
      "cell_type": "code",
      "execution_count": null,
      "id": "42ebed65",
      "metadata": {
        "id": "42ebed65"
      },
      "outputs": [],
      "source": [
        "dict_roc_main['all_asn'] = roc_auc_score(y_test_asn, main_clf.predict_proba(X_test_asn)[:, 1])"
      ]
    },
    {
      "cell_type": "code",
      "execution_count": null,
      "id": "6bc4ee86",
      "metadata": {
        "id": "6bc4ee86"
      },
      "outputs": [],
      "source": [
        "metrics = []\n",
        "metrics.append(dict_acc_main)\n",
        "metrics.append(dict_roc_main)"
      ]
    },
    {
      "cell_type": "code",
      "execution_count": null,
      "id": "f3f85e2e",
      "metadata": {
        "id": "f3f85e2e"
      },
      "outputs": [],
      "source": [
        "metrics = pd.DataFrame(metrics)\n",
        "metrics_manytoone = metrics.T.rename(columns={0:'Accuracy', 1:'ROC AUC'})"
      ]
    },
    {
      "cell_type": "code",
      "execution_count": null,
      "id": "a3ab09bc",
      "metadata": {
        "id": "a3ab09bc",
        "outputId": "4384787b-e5cc-483a-a171-899f4663d688"
      },
      "outputs": [
        {
          "data": {
            "text/html": [
              "<div>\n",
              "<style scoped>\n",
              "    .dataframe tbody tr th:only-of-type {\n",
              "        vertical-align: middle;\n",
              "    }\n",
              "\n",
              "    .dataframe tbody tr th {\n",
              "        vertical-align: top;\n",
              "    }\n",
              "\n",
              "    .dataframe thead th {\n",
              "        text-align: right;\n",
              "    }\n",
              "</style>\n",
              "<table border=\"1\" class=\"dataframe\">\n",
              "  <thead>\n",
              "    <tr style=\"text-align: right;\">\n",
              "      <th></th>\n",
              "      <th>Accuracy</th>\n",
              "      <th>ROC AUC</th>\n",
              "    </tr>\n",
              "  </thead>\n",
              "  <tbody>\n",
              "    <tr>\n",
              "      <th>eur_eur</th>\n",
              "      <td>0.617333</td>\n",
              "      <td>0.658046</td>\n",
              "    </tr>\n",
              "    <tr>\n",
              "      <th>eur_afr</th>\n",
              "      <td>0.657333</td>\n",
              "      <td>0.705918</td>\n",
              "    </tr>\n",
              "    <tr>\n",
              "      <th>eur_asn</th>\n",
              "      <td>0.625333</td>\n",
              "      <td>0.667013</td>\n",
              "    </tr>\n",
              "    <tr>\n",
              "      <th>afr_afr</th>\n",
              "      <td>0.649333</td>\n",
              "      <td>0.685958</td>\n",
              "    </tr>\n",
              "    <tr>\n",
              "      <th>afr_eur</th>\n",
              "      <td>0.621333</td>\n",
              "      <td>0.672240</td>\n",
              "    </tr>\n",
              "    <tr>\n",
              "      <th>afr_asn</th>\n",
              "      <td>0.625333</td>\n",
              "      <td>0.659109</td>\n",
              "    </tr>\n",
              "    <tr>\n",
              "      <th>asn_asn</th>\n",
              "      <td>0.608000</td>\n",
              "      <td>0.652571</td>\n",
              "    </tr>\n",
              "    <tr>\n",
              "      <th>asn_eur</th>\n",
              "      <td>0.617333</td>\n",
              "      <td>0.673116</td>\n",
              "    </tr>\n",
              "    <tr>\n",
              "      <th>asn_afr</th>\n",
              "      <td>0.657333</td>\n",
              "      <td>0.707027</td>\n",
              "    </tr>\n",
              "  </tbody>\n",
              "</table>\n",
              "</div>"
            ],
            "text/plain": [
              "         Accuracy   ROC AUC\n",
              "eur_eur  0.617333  0.658046\n",
              "eur_afr  0.657333  0.705918\n",
              "eur_asn  0.625333  0.667013\n",
              "afr_afr  0.649333  0.685958\n",
              "afr_eur  0.621333  0.672240\n",
              "afr_asn  0.625333  0.659109\n",
              "asn_asn  0.608000  0.652571\n",
              "asn_eur  0.617333  0.673116\n",
              "asn_afr  0.657333  0.707027"
            ]
          },
          "execution_count": 872,
          "metadata": {},
          "output_type": "execute_result"
        }
      ],
      "source": [
        "metrics_onetoone"
      ]
    },
    {
      "cell_type": "code",
      "execution_count": null,
      "id": "e81ed437",
      "metadata": {
        "id": "e81ed437",
        "outputId": "4ae26c17-b807-4685-9af3-616745e44f2e"
      },
      "outputs": [
        {
          "data": {
            "text/html": [
              "<div>\n",
              "<style scoped>\n",
              "    .dataframe tbody tr th:only-of-type {\n",
              "        vertical-align: middle;\n",
              "    }\n",
              "\n",
              "    .dataframe tbody tr th {\n",
              "        vertical-align: top;\n",
              "    }\n",
              "\n",
              "    .dataframe thead th {\n",
              "        text-align: right;\n",
              "    }\n",
              "</style>\n",
              "<table border=\"1\" class=\"dataframe\">\n",
              "  <thead>\n",
              "    <tr style=\"text-align: right;\">\n",
              "      <th></th>\n",
              "      <th>Accuracy</th>\n",
              "      <th>ROC AUC</th>\n",
              "    </tr>\n",
              "  </thead>\n",
              "  <tbody>\n",
              "    <tr>\n",
              "      <th>all_eur</th>\n",
              "      <td>0.629333</td>\n",
              "      <td>0.669550</td>\n",
              "    </tr>\n",
              "    <tr>\n",
              "      <th>all_afr</th>\n",
              "      <td>0.666667</td>\n",
              "      <td>0.702212</td>\n",
              "    </tr>\n",
              "    <tr>\n",
              "      <th>all_asn</th>\n",
              "      <td>0.629333</td>\n",
              "      <td>0.661677</td>\n",
              "    </tr>\n",
              "  </tbody>\n",
              "</table>\n",
              "</div>"
            ],
            "text/plain": [
              "         Accuracy   ROC AUC\n",
              "all_eur  0.629333  0.669550\n",
              "all_afr  0.666667  0.702212\n",
              "all_asn  0.629333  0.661677"
            ]
          },
          "execution_count": 873,
          "metadata": {},
          "output_type": "execute_result"
        }
      ],
      "source": [
        "metrics_manytoone"
      ]
    },
    {
      "cell_type": "code",
      "source": [],
      "metadata": {
        "id": "G3XY2k1hegt0"
      },
      "id": "G3XY2k1hegt0",
      "execution_count": null,
      "outputs": []
    },
    {
      "cell_type": "code",
      "source": [],
      "metadata": {
        "id": "diJN8d_tegv3"
      },
      "id": "diJN8d_tegv3",
      "execution_count": null,
      "outputs": []
    },
    {
      "cell_type": "code",
      "source": [],
      "metadata": {
        "id": "jDDJJJFMegyO"
      },
      "id": "jDDJJJFMegyO",
      "execution_count": null,
      "outputs": []
    }
  ],
  "metadata": {
    "kernelspec": {
      "display_name": "Python 3 (ipykernel)",
      "language": "python",
      "name": "python3"
    },
    "language_info": {
      "codemirror_mode": {
        "name": "ipython",
        "version": 3
      },
      "file_extension": ".py",
      "mimetype": "text/x-python",
      "name": "python",
      "nbconvert_exporter": "python",
      "pygments_lexer": "ipython3",
      "version": "3.9.13"
    },
    "colab": {
      "provenance": []
    }
  },
  "nbformat": 4,
  "nbformat_minor": 5
}